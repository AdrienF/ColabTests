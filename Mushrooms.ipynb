{
  "nbformat": 4,
  "nbformat_minor": 0,
  "metadata": {
    "colab": {
      "name": "Mushrooms.ipynb",
      "provenance": [],
      "collapsed_sections": [],
      "mount_file_id": "1PGFCLVHxON9sEPWXWtfZvXvy_Rrm4qTh",
      "authorship_tag": "ABX9TyOdrj6PfUE6GZX+8uyKMthn",
      "include_colab_link": true
    },
    "kernelspec": {
      "name": "python3",
      "display_name": "Python 3"
    }
  },
  "cells": [
    {
      "cell_type": "markdown",
      "metadata": {
        "id": "view-in-github",
        "colab_type": "text"
      },
      "source": [
        "<a href=\"https://colab.research.google.com/github/AdrienF/ColabTests/blob/main/Mushrooms.ipynb\" target=\"_parent\"><img src=\"https://colab.research.google.com/assets/colab-badge.svg\" alt=\"Open In Colab\"/></a>"
      ]
    },
    {
      "cell_type": "markdown",
      "metadata": {
        "id": "yQiz0tm31yZY"
      },
      "source": [
        "# Etude de cas : les champignons!\n",
        "\n",
        "## Contexte \n",
        "\n",
        "Although this dataset was originally contributed to the UCI Machine Learning repository nearly 30 years ago, mushroom hunting (otherwise known as \"shrooming\") is enjoying new peaks in popularity. Learn which features spell certain death and which are most palatable in this dataset of mushroom characteristics. And how certain can your model be?\n",
        "Content\n",
        "\n",
        "This dataset includes descriptions of hypothetical samples corresponding to 23 species of gilled mushrooms in the Agaricus and Lepiota Family Mushroom drawn from The Audubon Society Field Guide to North American Mushrooms (1981). Each species is identified as definitely edible, definitely poisonous, or of unknown edibility and not recommended. This latter class was combined with the poisonous one. The Guide clearly states that there is no simple rule for determining the edibility of a mushroom; no rule like \"leaflets three, let it be'' for Poisonous Oak and Ivy.\n",
        "\n",
        "    Time period: Donated to UCI ML 27 April 1987\n",
        "\n",
        "Inspiration\n",
        "\n",
        "    What types of machine learning models perform best on this dataset?\n",
        "\n",
        "    Which features are most indicative of a poisonous mushroom?\n",
        "\n",
        "Acknowledgements\n",
        "\n",
        "This dataset was originally donated to the UCI Machine Learning repository. You can learn more about past research using the data [here](https://archive.ics.uci.edu/ml/datasets/Mushroom). \n",
        "\n",
        "## Dataset description\n",
        "\n",
        "Attribute Information: (classes: edible=e, poisonous=p)\n",
        "\n",
        "- cap-shape: bell=b,conical=c,convex=x,flat=f, knobbed=k,sunken=s\n",
        "- cap-surface: fibrous=f,grooves=g,scaly=y,smooth=s\n",
        "- cap-color: brown=n,buff=b,cinnamon=c,gray=g,green=r,pink=p,purple=u,red=e,white=w,yellow=y\n",
        "- bruises: bruises=t,no=f\n",
        "- odor: almond=a,anise=l,creosote=c,fishy=y,foul=f,musty=m,none=n,pungent=p,spicy=s\n",
        "- gill-attachment: attached=a,descending=d,free=f,notched=n\n",
        "- gill-spacing: close=c,crowded=w,distant=d\n",
        "- gill-size: broad=b,narrow=n\n",
        "- gill-color: black=k,brown=n,buff=b,chocolate=h,gray=g, green=r,orange=o,pink=p,purple=u,red=e,white=w,yellow=y\n",
        "- stalk-shape: enlarging=e,tapering=t\n",
        "- stalk-root: bulbous=b,club=c,cup=u,equal=e,rhizomorphs=z,rooted=r,missing=?\n",
        "- stalk-surface-above-ring: fibrous=f,scaly=y,silky=k,smooth=s\n",
        "- stalk-surface-below-ring: fibrous=f,scaly=y,silky=k,smooth=s\n",
        "- stalk-color-above-ring: brown=n,buff=b,cinnamon=c,gray=g,orange=o,pink=p,red=e,white=w,yellow=y\n",
        "- stalk-color-below-ring: brown=n,buff=b,cinnamon=c,gray=g,orange=o,pink=p,red=e,white=w,yellow=y\n",
        "-veil-type: partial=p,universal=u\n",
        "-veil-color: brown=n,orange=o,white=w,yellow=y\n",
        "-ring-number: none=n,one=o,two=t\n",
        "-ring-type: cobwebby=c,evanescent=e,flaring=f,large=l,none=n,pendant=p,sheathing=s,zone=z\n",
        "-spore-print-color: black=k,brown=n,buff=b,chocolate=h,green=r,orange=o,purple=u,white=w,yellow=y\n",
        "-population: abundant=a,clustered=c,numerous=n,scattered=s,several=v,solitary=y\n",
        "-habitat: grasses=g,leaves=l,meadows=m,paths=p,urban=u,waste=w,woods=d\n",
        "\n",
        "\n",
        "## But du notebook\n",
        "\n",
        "Dans ce notebook vous devrez explorer ce dataset, comprendre quels sont les attributs importants et trouver quels sont les champignons comestibles. \n",
        "\n",
        "**L'évaluation se fera sur la précision de la classification `edible / poisonous` et la baseline sera celle d'un classifieur linéaire (à implémenter).**\n",
        "\n",
        "Bonne chance!\n",
        "\n",
        "## Let's go!\n",
        "\n",
        "A partir de maintenant vous êtes libre d'éditer ce notebook. N'hésitez pas à le structurer, à le documenter, à illustrer, ..."
      ]
    },
    {
      "cell_type": "code",
      "metadata": {
        "colab": {
          "base_uri": "https://localhost:8080/"
        },
        "id": "ET9VDctI10yT",
        "outputId": "f7282ceb-12a3-49a9-9af2-896cffb9152d"
      },
      "source": [
        "# Data management is preferably done with pandas\n",
        "import pandas as pd\n",
        "# Download dataset\n",
        "!wget https://raw.githubusercontent.com/AdrienF/ColabTests/main/mushrooms.csv \\\n",
        "  -O mushrooms.csv\n",
        "# Load dataset\n",
        "df = pd.read_csv(\"mushrooms.csv\")\n"
      ],
      "execution_count": null,
      "outputs": [
        {
          "output_type": "stream",
          "text": [
            "--2021-01-05 08:11:32--  https://raw.githubusercontent.com/AdrienF/ColabTests/main/mushrooms.csv\n",
            "Resolving raw.githubusercontent.com (raw.githubusercontent.com)... 151.101.0.133, 151.101.64.133, 151.101.128.133, ...\n",
            "Connecting to raw.githubusercontent.com (raw.githubusercontent.com)|151.101.0.133|:443... connected.\n",
            "HTTP request sent, awaiting response... 200 OK\n",
            "Length: 374003 (365K) [text/plain]\n",
            "Saving to: ‘mushrooms.csv’\n",
            "\n",
            "\rmushrooms.csv         0%[                    ]       0  --.-KB/s               \rmushrooms.csv       100%[===================>] 365.24K  --.-KB/s    in 0.02s   \n",
            "\n",
            "2021-01-05 08:11:32 (15.3 MB/s) - ‘mushrooms.csv’ saved [374003/374003]\n",
            "\n"
          ],
          "name": "stdout"
        }
      ]
    },
    {
      "cell_type": "markdown",
      "metadata": {
        "id": "uwv4rCm747EV"
      },
      "source": [
        ""
      ]
    },
    {
      "cell_type": "code",
      "metadata": {
        "id": "rmxP7MV8mZy4"
      },
      "source": [
        ""
      ],
      "execution_count": null,
      "outputs": []
    }
  ]
}