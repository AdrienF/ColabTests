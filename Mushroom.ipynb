{
  "nbformat": 4,
  "nbformat_minor": 0,
  "metadata": {
    "colab": {
      "name": "NotebookTest.ipynb",
      "provenance": [],
      "collapsed_sections": [],
      "mount_file_id": "1PGFCLVHxON9sEPWXWtfZvXvy_Rrm4qTh",
      "authorship_tag": "ABX9TyM3fbMZzxXMUkr3kjJV8ozm",
      "include_colab_link": true
    },
    "kernelspec": {
      "name": "python3",
      "display_name": "Python 3"
    }
  },
  "cells": [
    {
      "cell_type": "markdown",
      "metadata": {
        "id": "view-in-github",
        "colab_type": "text"
      },
      "source": [
        "<a href=\"https://colab.research.google.com/github/AdrienF/ColabTests/blob/main/Mushroom.ipynb\" target=\"_parent\"><img src=\"https://colab.research.google.com/assets/colab-badge.svg\" alt=\"Open In Colab\"/></a>"
      ]
    },
    {
      "cell_type": "markdown",
      "metadata": {
        "id": "yQiz0tm31yZY"
      },
      "source": [
        "# Etude de cas : les champignons!\n",
        "\n",
        "## Contexte \n",
        "\n",
        "Although this dataset was originally contributed to the UCI Machine Learning repository nearly 30 years ago, mushroom hunting (otherwise known as \"shrooming\") is enjoying new peaks in popularity. Learn which features spell certain death and which are most palatable in this dataset of mushroom characteristics. And how certain can your model be?\n",
        "Content\n",
        "\n",
        "This dataset includes descriptions of hypothetical samples corresponding to 23 species of gilled mushrooms in the Agaricus and Lepiota Family Mushroom drawn from The Audubon Society Field Guide to North American Mushrooms (1981). Each species is identified as definitely edible, definitely poisonous, or of unknown edibility and not recommended. This latter class was combined with the poisonous one. The Guide clearly states that there is no simple rule for determining the edibility of a mushroom; no rule like \"leaflets three, let it be'' for Poisonous Oak and Ivy.\n",
        "\n",
        "    Time period: Donated to UCI ML 27 April 1987\n",
        "\n",
        "Inspiration\n",
        "\n",
        "    What types of machine learning models perform best on this dataset?\n",
        "\n",
        "    Which features are most indicative of a poisonous mushroom?\n",
        "\n",
        "Acknowledgements\n",
        "\n",
        "This dataset was originally donated to the UCI Machine Learning repository. You can learn more about past research using the data [here](https://archive.ics.uci.edu/ml/datasets/Mushroom). \n",
        "\n",
        "## But du notebook\n",
        "\n",
        "Dans ce notebook vous devrez explorer ce dataset, comprendre quels sont les attributs importants et trouver quels sont les champignons comestibles. \n",
        "\n",
        "**L'évaluation se fera sur la précision de la classification `edible / poisonous` et la baseline sera celle d'un classifieur linéaire (à implémenter).**\n",
        "\n",
        "Bonne chance!\n",
        "\n",
        "## Let's go!\n",
        "\n",
        "A partir de maintenant vous êtes libre d'éditer ce notebook. N'hésitez pas à le structurer, à le documenter, à illustrer, ..."
      ]
    },
    {
      "cell_type": "code",
      "metadata": {
        "colab": {
          "base_uri": "https://localhost:8080/"
        },
        "id": "ET9VDctI10yT",
        "outputId": "216a75c3-905b-4b64-8946-65229ac1bea4"
      },
      "source": [
        "# Data management is preferably done with pandas\n",
        "import pandas as pd\n",
        "# Download dataset\n",
        "!wget https://raw.githubusercontent.com/AdrienF/ColabTests/main/mushrooms.csv \\\n",
        "  -O mushrooms.csv\n",
        "# Load dataset\n",
        "df = pd.read_csv(\"mushrooms.csv\")\n"
      ],
      "execution_count": 5,
      "outputs": [
        {
          "output_type": "stream",
          "text": [
            "--2021-01-04 15:10:35--  https://raw.githubusercontent.com/AdrienF/ColabTests/main/mushrooms.csv\n",
            "Resolving raw.githubusercontent.com (raw.githubusercontent.com)... 151.101.0.133, 151.101.64.133, 151.101.128.133, ...\n",
            "Connecting to raw.githubusercontent.com (raw.githubusercontent.com)|151.101.0.133|:443... connected.\n",
            "HTTP request sent, awaiting response... 200 OK\n",
            "Length: 374003 (365K) [text/plain]\n",
            "Saving to: ‘mushrooms.csv’\n",
            "\n",
            "mushrooms.csv       100%[===================>] 365.24K  --.-KB/s    in 0.04s   \n",
            "\n",
            "2021-01-04 15:10:35 (8.66 MB/s) - ‘mushrooms.csv’ saved [374003/374003]\n",
            "\n"
          ],
          "name": "stdout"
        }
      ]
    },
    {
      "cell_type": "markdown",
      "metadata": {
        "id": "uwv4rCm747EV"
      },
      "source": [
        ""
      ]
    },
    {
      "cell_type": "code",
      "metadata": {
        "id": "J4z0MNBZ3GOy"
      },
      "source": [
        ""
      ],
      "execution_count": null,
      "outputs": []
    }
  ]
}